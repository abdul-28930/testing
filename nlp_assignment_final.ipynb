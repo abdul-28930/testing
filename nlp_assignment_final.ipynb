{
  "nbformat": 4,
  "nbformat_minor": 0,
  "metadata": {
    "colab": {
      "provenance": []
    },
    "kernelspec": {
      "name": "python3",
      "display_name": "Python 3"
    },
    "language_info": {
      "name": "python"
    }
  },
  "cells": [
    {
      "cell_type": "code",
      "execution_count": 23,
      "metadata": {
        "colab": {
          "base_uri": "https://localhost:8080/"
        },
        "id": "BCHM7XwyST10",
        "outputId": "14695a3c-1530-4ffc-efc1-54bf859eb197"
      },
      "outputs": [
        {
          "output_type": "stream",
          "name": "stdout",
          "text": [
            "True\n",
            "16\n",
            "7\n",
            "brown\n",
            "nworb\n",
            "Thedog\n",
            "['The', 'brown', 'jumps', 'the', 'dog']\n",
            "dog\n",
            "god yzal eht revo spmuj xof nworb kciuq ehT\n",
            "ehT kciuq nworb xof spmuj revo eht yzal god\n"
          ]
        }
      ],
      "source": [
        "#setting up a sentence\n",
        "sentence = 'The quick brown fox jumps over the lazy dog'\n",
        "\n",
        "#checking if \"quick\" is there in the sentence\n",
        "print('quick' in sentence)\n",
        "\n",
        "#finding the index value of \"fox\"\n",
        "print(sentence.index('fox'))\n",
        "\n",
        "#finding the rank of \"lazy\"\n",
        "print(sentence.split().index('lazy'))\n",
        "\n",
        "#printing the third word of the sentence\n",
        "print(sentence.split()[2])\n",
        "# Output: 'brown'\n",
        "\n",
        "#printing the third word of the sentence but in reverse\n",
        "print(sentence.split()[2][::-1])\n",
        "\n",
        "#concantenating first and last word\n",
        "words = sentence.split()\n",
        "fword = words[0]\n",
        "lword = words[-1]\n",
        "cword = fword + lword\n",
        "print(cword)\n",
        "\n",
        "#printing words in even indexes\n",
        "print([words[i] for i in range(len(words)) if i%2 == 0])\n",
        "\n",
        "#printing the last 3 letters\n",
        "print(sentence[-3:])\n",
        "\n",
        "#printing in reverse order\n",
        "print(sentence[::-1])\n",
        "\n",
        "#printing the words alone in reverse, but in same order as they were in\n",
        "print(' '.join([word[::-1] for word in words]))\n",
        "\n"
      ]
    },
    {
      "cell_type": "code",
      "source": [
        "import nltk\n",
        "from nltk import word_tokenize\n",
        "\n",
        "#tokenizing the sentence\n",
        "words = word_tokenize(\"I am reading NLP Fundamentals\")\n",
        "\n",
        "#printing the list of tokens\n",
        "print(words)"
      ],
      "metadata": {
        "colab": {
          "base_uri": "https://localhost:8080/"
        },
        "id": "8n2u9ngvUSoZ",
        "outputId": "ecbd9ada-37d5-47bf-e75b-9fe181ffed8e"
      },
      "execution_count": 24,
      "outputs": [
        {
          "output_type": "stream",
          "name": "stdout",
          "text": [
            "['I', 'am', 'reading', 'NLP', 'Fundamentals']\n"
          ]
        }
      ]
    },
    {
      "cell_type": "code",
      "source": [
        "import nltk\n",
        "nltk.download('averaged_perceptron_tagger')\n",
        "from nltk import word_tokenize\n",
        "\n",
        "#tokenizing the sentence\n",
        "words = word_tokenize(\"I am reading NLP Fundamentals\")\n",
        "\n",
        "#printing the tokens\n",
        "print(words)\n",
        "\n",
        "#Conducting POS tagging\n",
        "pos_tags = nltk.pos_tag(words)\n",
        "\n",
        "#printing the POS tags\n",
        "print(pos_tags)"
      ],
      "metadata": {
        "colab": {
          "base_uri": "https://localhost:8080/"
        },
        "id": "HSqtA5mdUrer",
        "outputId": "99c961cc-285e-4262-b5b1-5030b434ac41"
      },
      "execution_count": 25,
      "outputs": [
        {
          "output_type": "stream",
          "name": "stdout",
          "text": [
            "['I', 'am', 'reading', 'NLP', 'Fundamentals']\n",
            "[('I', 'PRP'), ('am', 'VBP'), ('reading', 'VBG'), ('NLP', 'NNP'), ('Fundamentals', 'NNS')]\n"
          ]
        },
        {
          "output_type": "stream",
          "name": "stderr",
          "text": [
            "[nltk_data] Downloading package averaged_perceptron_tagger to\n",
            "[nltk_data]     /root/nltk_data...\n",
            "[nltk_data]   Package averaged_perceptron_tagger is already up-to-\n",
            "[nltk_data]       date!\n"
          ]
        }
      ]
    },
    {
      "source": [
        "import nltk\n",
        "from nltk import word_tokenize, pos_tag\n",
        "nltk.download('averaged_perceptron_tagger')\n",
        "\n",
        "# Tokenize the sentence\n",
        "words = word_tokenize(\"I am reading NLP Fundamentals\")\n",
        "\n",
        "# Print the tokens\n",
        "print(words)\n",
        "\n",
        "# Conduct POS tagging\n",
        "pos_tags = pos_tag(words)\n",
        "\n",
        "# Print the POS tags\n",
        "print(pos_tags)"
      ],
      "cell_type": "code",
      "metadata": {
        "colab": {
          "base_uri": "https://localhost:8080/"
        },
        "id": "Le2_QcjyYaQo",
        "outputId": "f1c6d51e-3392-45fb-d785-49742502f101"
      },
      "execution_count": 26,
      "outputs": [
        {
          "output_type": "stream",
          "name": "stdout",
          "text": [
            "['I', 'am', 'reading', 'NLP', 'Fundamentals']\n",
            "[('I', 'PRP'), ('am', 'VBP'), ('reading', 'VBG'), ('NLP', 'NNP'), ('Fundamentals', 'NNS')]\n"
          ]
        },
        {
          "output_type": "stream",
          "name": "stderr",
          "text": [
            "[nltk_data] Downloading package averaged_perceptron_tagger to\n",
            "[nltk_data]     /root/nltk_data...\n",
            "[nltk_data]   Package averaged_perceptron_tagger is already up-to-\n",
            "[nltk_data]       date!\n"
          ]
        }
      ]
    },
    {
      "cell_type": "code",
      "source": [
        "import nltk\n",
        "from nltk import word_tokenize\n",
        "from nltk.corpus import stopwords\n",
        "nltk.download('stopwords')\n",
        "\n",
        "#getting list of stopwords in english\n",
        "stop_words = stopwords.words('english')\n",
        "\n",
        "#printing the list of words\n",
        "print(stop_words)\n",
        "\n",
        "#now set up the sentence\n",
        "sentence = \"I am learning Python. It is one of the most popular programming languages\"\n",
        "\n",
        "#tokenizing the sentence into words\n",
        "sentence_words = word_tokenize(sentence)\n",
        "\n",
        "#printing the list of tokens\n",
        "print(sentence_words)\n",
        "\n",
        "#now, removing the stopwords from the sentence\n",
        "sentence_no_stops = ' '.join([word for word in sentence_words if word.lower() not in stop_words])\n",
        "\n",
        "#printing the sentence after removing stopwords\n",
        "print(sentence_no_stops)"
      ],
      "metadata": {
        "colab": {
          "base_uri": "https://localhost:8080/"
        },
        "id": "cy02RVzAYG4R",
        "outputId": "576effc8-3f82-43d9-a39c-b6ff61799900"
      },
      "execution_count": 27,
      "outputs": [
        {
          "output_type": "stream",
          "name": "stdout",
          "text": [
            "['i', 'me', 'my', 'myself', 'we', 'our', 'ours', 'ourselves', 'you', \"you're\", \"you've\", \"you'll\", \"you'd\", 'your', 'yours', 'yourself', 'yourselves', 'he', 'him', 'his', 'himself', 'she', \"she's\", 'her', 'hers', 'herself', 'it', \"it's\", 'its', 'itself', 'they', 'them', 'their', 'theirs', 'themselves', 'what', 'which', 'who', 'whom', 'this', 'that', \"that'll\", 'these', 'those', 'am', 'is', 'are', 'was', 'were', 'be', 'been', 'being', 'have', 'has', 'had', 'having', 'do', 'does', 'did', 'doing', 'a', 'an', 'the', 'and', 'but', 'if', 'or', 'because', 'as', 'until', 'while', 'of', 'at', 'by', 'for', 'with', 'about', 'against', 'between', 'into', 'through', 'during', 'before', 'after', 'above', 'below', 'to', 'from', 'up', 'down', 'in', 'out', 'on', 'off', 'over', 'under', 'again', 'further', 'then', 'once', 'here', 'there', 'when', 'where', 'why', 'how', 'all', 'any', 'both', 'each', 'few', 'more', 'most', 'other', 'some', 'such', 'no', 'nor', 'not', 'only', 'own', 'same', 'so', 'than', 'too', 'very', 's', 't', 'can', 'will', 'just', 'don', \"don't\", 'should', \"should've\", 'now', 'd', 'll', 'm', 'o', 're', 've', 'y', 'ain', 'aren', \"aren't\", 'couldn', \"couldn't\", 'didn', \"didn't\", 'doesn', \"doesn't\", 'hadn', \"hadn't\", 'hasn', \"hasn't\", 'haven', \"haven't\", 'isn', \"isn't\", 'ma', 'mightn', \"mightn't\", 'mustn', \"mustn't\", 'needn', \"needn't\", 'shan', \"shan't\", 'shouldn', \"shouldn't\", 'wasn', \"wasn't\", 'weren', \"weren't\", 'won', \"won't\", 'wouldn', \"wouldn't\"]\n",
            "['I', 'am', 'learning', 'Python', '.', 'It', 'is', 'one', 'of', 'the', 'most', 'popular', 'programming', 'languages']\n",
            "learning Python . one popular programming languages\n"
          ]
        },
        {
          "output_type": "stream",
          "name": "stderr",
          "text": [
            "[nltk_data] Downloading package stopwords to /root/nltk_data...\n",
            "[nltk_data]   Package stopwords is already up-to-date!\n"
          ]
        }
      ]
    },
    {
      "cell_type": "code",
      "source": [
        "sentence = \"I visited US from UK on 22-10-18\"\n",
        "\n",
        "#replacing \"US\" with \"United States\", \"UK\" with \"United Kingdom\", and \"18\" with \"2018\"\n",
        "normalized_sentence = sentence.replace(\"US\", \"United States\").replace(\"UK\", \"United Kingdom\").replace(\"-18\", \"-2018\")\n",
        "\n",
        "#printing output\n",
        "print(normalized_sentence)\n"
      ],
      "metadata": {
        "colab": {
          "base_uri": "https://localhost:8080/"
        },
        "id": "Ua6ToO-gZ0ri",
        "outputId": "c9bd6144-e66b-4ec7-8b40-1d266d8953fe"
      },
      "execution_count": 28,
      "outputs": [
        {
          "output_type": "stream",
          "name": "stdout",
          "text": [
            "I visited United States from United Kingdom on 22-10-2018\n"
          ]
        }
      ]
    },
    {
      "cell_type": "code",
      "source": [
        "!pip install -q -U autocorrect"
      ],
      "metadata": {
        "id": "utCNmnvMaZWD"
      },
      "execution_count": 29,
      "outputs": []
    },
    {
      "cell_type": "code",
      "source": [
        "import nltk\n",
        "from nltk import word_tokenize\n",
        "from autocorrect import Speller\n",
        "\n",
        "#correcting the spelling\n",
        "spell_checker = Speller()\n",
        "corrected_word = spell_checker('Natureal')\n",
        "print(corrected_word)\n",
        "\n",
        "#tokenizing the sentence\n",
        "sentence = word_tokenize(\"Ntural Luanguage Processin deals with the art of extracting insightes from Natural Languaes\")\n",
        "\n",
        "#printing the tokens\n",
        "print(sentence)\n",
        "\n",
        "#correcting the words\n",
        "sentence_corrected = ' '.join([spell_checker(word) for word in sentence])\n",
        "\n",
        "#printing the corrected sentence\n",
        "print(sentence_corrected)\n"
      ],
      "metadata": {
        "colab": {
          "base_uri": "https://localhost:8080/"
        },
        "id": "0WdwOkQ1ad56",
        "outputId": "832744f7-ed0f-4f4d-88b1-9cd1f842e815"
      },
      "execution_count": 30,
      "outputs": [
        {
          "output_type": "stream",
          "name": "stdout",
          "text": [
            "Natural\n",
            "['Ntural', 'Luanguage', 'Processin', 'deals', 'with', 'the', 'art', 'of', 'extracting', 'insightes', 'from', 'Natural', 'Languaes']\n",
            "Natural Language Processing deals with the art of extracting insights from Natural Languages\n"
          ]
        }
      ]
    },
    {
      "cell_type": "code",
      "source": [
        "import nltk\n",
        "stemmer = nltk.stem.PorterStemmer()\n",
        "\n",
        "print(stemmer.stem(\"production\"))\n",
        "\n",
        "print(stemmer.stem(\"coming\"))\n",
        "\n",
        "print(stemmer.stem(\"firing\"))\n",
        "\n",
        "print(stemmer.stem(\"battling\"))"
      ],
      "metadata": {
        "colab": {
          "base_uri": "https://localhost:8080/"
        },
        "id": "cCEC67TEas4x",
        "outputId": "689e7798-aaa9-4935-fb8a-954168352d41"
      },
      "execution_count": 31,
      "outputs": [
        {
          "output_type": "stream",
          "name": "stdout",
          "text": [
            "product\n",
            "come\n",
            "fire\n",
            "battl\n"
          ]
        }
      ]
    },
    {
      "cell_type": "code",
      "source": [
        "import nltk\n",
        "from nltk.stem.wordnet import WordNetLemmatizer\n",
        "\n",
        "nltk.download('wordnet')\n",
        "\n",
        "#creating an object with wordnetlemmatizer class\n",
        "lemmatizer = WordNetLemmatizer()\n",
        "\n",
        "print(lemmatizer.lemmatize('products'))\n",
        "\n",
        "print(lemmatizer.lemmatize('production'))\n",
        "\n",
        "print(lemmatizer.lemmatize('coming'))\n",
        "\n",
        "print(lemmatizer.lemmatize('battle'))\n"
      ],
      "metadata": {
        "colab": {
          "base_uri": "https://localhost:8080/"
        },
        "id": "cctqhTWhbDzQ",
        "outputId": "5a2d14ee-ee18-4427-bae3-3758439028e8"
      },
      "execution_count": 32,
      "outputs": [
        {
          "output_type": "stream",
          "name": "stdout",
          "text": [
            "product\n",
            "production\n",
            "coming\n",
            "battle\n"
          ]
        },
        {
          "output_type": "stream",
          "name": "stderr",
          "text": [
            "[nltk_data] Downloading package wordnet to /root/nltk_data...\n",
            "[nltk_data]   Package wordnet is already up-to-date!\n"
          ]
        }
      ]
    },
    {
      "cell_type": "code",
      "source": [
        "import nltk\n",
        "from nltk import word_tokenize\n",
        "from nltk import ne_chunk\n",
        "\n",
        "nltk.download('maxent_ne_chunker')\n",
        "nltk.download('words')\n",
        "\n",
        "sentence = \"We are reading a book published by Packt which is based out of Birmingham.\"\n",
        "\n",
        "tokenized_sentence = word_tokenize(sentence)\n",
        "pos_tags = nltk.pos_tag(tokenized_sentence)\n",
        "named_entities = ne_chunk(pos_tags, binary=True)\n",
        "\n",
        "named_entities_list = [a for a in named_entities if len(a)==1]\n",
        "\n",
        "print(named_entities_list)"
      ],
      "metadata": {
        "colab": {
          "base_uri": "https://localhost:8080/"
        },
        "id": "SDem-E8EbWiB",
        "outputId": "02c3128b-5f6a-4545-e0b1-1da3e71bd9c0"
      },
      "execution_count": 33,
      "outputs": [
        {
          "output_type": "stream",
          "name": "stdout",
          "text": [
            "[Tree('NE', [('Packt', 'NNP')]), Tree('NE', [('Birmingham', 'NNP')])]\n"
          ]
        },
        {
          "output_type": "stream",
          "name": "stderr",
          "text": [
            "[nltk_data] Downloading package maxent_ne_chunker to\n",
            "[nltk_data]     /root/nltk_data...\n",
            "[nltk_data]   Package maxent_ne_chunker is already up-to-date!\n",
            "[nltk_data] Downloading package words to /root/nltk_data...\n",
            "[nltk_data]   Package words is already up-to-date!\n"
          ]
        }
      ]
    },
    {
      "cell_type": "code",
      "source": [
        "import nltk\n",
        "from nltk.wsd import lesk\n",
        "from nltk import word_tokenize\n",
        "\n",
        "sentence1 = \"Keep your savings in the bank\"\n",
        "sentence2 = \"It's so risky to drive over the banks of the road\"\n",
        "\n",
        "sense1 = lesk(word_tokenize(sentence1), 'bank')\n",
        "print(sense1)\n",
        "\n",
        "sense2 = lesk(word_tokenize(sentence2), 'bank')\n",
        "print(sense2)\n"
      ],
      "metadata": {
        "colab": {
          "base_uri": "https://localhost:8080/"
        },
        "id": "Ey5BJcCZbwQk",
        "outputId": "c388bc0e-9b22-46bb-fdb6-e948bcdfd9ac"
      },
      "execution_count": 34,
      "outputs": [
        {
          "output_type": "stream",
          "name": "stdout",
          "text": [
            "Synset('savings_bank.n.02')\n",
            "Synset('bank.v.07')\n"
          ]
        }
      ]
    },
    {
      "cell_type": "code",
      "source": [
        "import nltk\n",
        "from nltk.tokenize import sent_tokenize\n",
        "\n",
        "sentences = sent_tokenize(\"We are reading a book. Do you know who is the publisher? It is Packt. Packt is based out of Birmingham.\")\n",
        "\n",
        "print(sentences)"
      ],
      "metadata": {
        "colab": {
          "base_uri": "https://localhost:8080/"
        },
        "id": "RKcBf6nSb4U7",
        "outputId": "44f5e3f3-4e2b-43de-aa16-1466ce49f49c"
      },
      "execution_count": 35,
      "outputs": [
        {
          "output_type": "stream",
          "name": "stdout",
          "text": [
            "['We are reading a book.', 'Do you know who is the publisher?', 'It is Packt.', 'Packt is based out of Birmingham.']\n"
          ]
        }
      ]
    },
    {
      "cell_type": "code",
      "source": [],
      "metadata": {
        "id": "QRyYUg9Fb8Y0"
      },
      "execution_count": 35,
      "outputs": []
    }
  ]
}