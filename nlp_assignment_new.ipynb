{
  "nbformat": 4,
  "nbformat_minor": 0,
  "metadata": {
    "colab": {
      "provenance": []
    },
    "kernelspec": {
      "name": "python3",
      "display_name": "Python 3"
    },
    "language_info": {
      "name": "python"
    }
  },
  "cells": [
    {
      "cell_type": "code",
      "execution_count": 23,
      "metadata": {
        "colab": {
          "base_uri": "https://localhost:8080/"
        },
        "id": "BCHM7XwyST10",
        "outputId": "c6a669c0-3dc8-486c-8b15-823511a9f9f4"
      },
      "outputs": [
        {
          "output_type": "stream",
          "name": "stdout",
          "text": [
            "True\n",
            "6\n",
            "5\n",
            "under\n",
            "rednu\n",
            "Hellogulugulu\n",
            "['Hello', 'under', 'water', 'help', 'gulugulu']\n",
            "ulu\n",
            "ulugulug em pleh esaelp retaw eht rednu ma olleH\n",
            "olleH ma rednu eht retaw esaelp pleh em ulugulug\n"
          ]
        }
      ],
      "source": [
        "#setting up a sentence\n",
        "sentence = 'Hello am under the water please help me gulugulu'\n",
        "\n",
        "#checking if \"water\" is there in the sentence\n",
        "print('water' in sentence)\n",
        "\n",
        "#finding the index value of \"am\"\n",
        "print(sentence.index('am'))\n",
        "\n",
        "#finding the rank of \"please\"\n",
        "print(sentence.split().index('please'))\n",
        "\n",
        "#printing the third word of the sentence\n",
        "print(sentence.split()[2])\n",
        "\n",
        "#printing the third word of the sentence but in reverse\n",
        "print(sentence.split()[2][::-1])\n",
        "\n",
        "#concantenating first and last word\n",
        "words = sentence.split()\n",
        "fword = words[0]\n",
        "lword = words[-1]\n",
        "cword = fword + lword\n",
        "print(cword)\n",
        "\n",
        "#printing words in even indexes\n",
        "print([words[i] for i in range(len(words)) if i%2 == 0])\n",
        "\n",
        "#printing the last 3 letters\n",
        "print(sentence[-3:])\n",
        "\n",
        "#printing in reverse order\n",
        "print(sentence[::-1])\n",
        "\n",
        "#printing the words alone in reverse, but in same order as they were in\n",
        "print(' '.join([word[::-1] for word in words]))\n",
        "\n"
      ]
    },
    {
      "cell_type": "code",
      "source": [
        "import nltk\n",
        "from nltk import word_tokenize\n",
        "nltk.download('punkt')\n",
        "\n",
        "#tokenizing the sentence\n",
        "words = word_tokenize(\"What is Discord, is it a social app?\")\n",
        "\n",
        "#printing the list of tokens\n",
        "print(words)"
      ],
      "metadata": {
        "colab": {
          "base_uri": "https://localhost:8080/"
        },
        "id": "8n2u9ngvUSoZ",
        "outputId": "a4b8832a-1ad7-404d-f01b-6ad19d1c926d"
      },
      "execution_count": 4,
      "outputs": [
        {
          "output_type": "stream",
          "name": "stderr",
          "text": [
            "[nltk_data] Downloading package punkt to /root/nltk_data...\n",
            "[nltk_data]   Unzipping tokenizers/punkt.zip.\n"
          ]
        },
        {
          "output_type": "stream",
          "name": "stdout",
          "text": [
            "['What', 'is', 'Discord', ',', 'is', 'it', 'a', 'social', 'app', '?']\n"
          ]
        }
      ]
    },
    {
      "cell_type": "code",
      "source": [
        "import nltk\n",
        "nltk.download('averaged_perceptron_tagger')\n",
        "from nltk import word_tokenize\n",
        "\n",
        "#tokenizing the sentence\n",
        "words = word_tokenize(\"Hello it's nice to meet you am Eren Yeager\")\n",
        "\n",
        "#printing the tokens\n",
        "print(words)\n",
        "\n",
        "#Conducting POS tagging\n",
        "pos_tags = nltk.pos_tag(words)\n",
        "\n",
        "#printing the POS tags\n",
        "print(pos_tags)"
      ],
      "metadata": {
        "colab": {
          "base_uri": "https://localhost:8080/"
        },
        "id": "HSqtA5mdUrer",
        "outputId": "3804fb92-d764-42b6-a1a1-c6b27916cdfb"
      },
      "execution_count": 5,
      "outputs": [
        {
          "output_type": "stream",
          "name": "stderr",
          "text": [
            "[nltk_data] Downloading package averaged_perceptron_tagger to\n",
            "[nltk_data]     /root/nltk_data...\n",
            "[nltk_data]   Unzipping taggers/averaged_perceptron_tagger.zip.\n"
          ]
        },
        {
          "output_type": "stream",
          "name": "stdout",
          "text": [
            "['Hello', 'it', \"'s\", 'nice', 'to', 'meet', 'you', 'am', 'Eren', 'Yeager']\n",
            "[('Hello', 'NNP'), ('it', 'PRP'), (\"'s\", 'VBZ'), ('nice', 'JJ'), ('to', 'TO'), ('meet', 'VB'), ('you', 'PRP'), ('am', 'VBP'), ('Eren', 'NNP'), ('Yeager', 'NN')]\n"
          ]
        }
      ]
    },
    {
      "source": [
        "import nltk\n",
        "from nltk import word_tokenize, pos_tag\n",
        "nltk.download('averaged_perceptron_tagger')\n",
        "\n",
        "# Tokenize the sentence\n",
        "words = word_tokenize(\"oh no what is happening here lol?\")\n",
        "\n",
        "# Print the tokens\n",
        "print(words)\n",
        "\n",
        "# Conduct POS tagging\n",
        "pos_tags = pos_tag(words)\n",
        "\n",
        "# Print the POS tags\n",
        "print(pos_tags)"
      ],
      "cell_type": "code",
      "metadata": {
        "colab": {
          "base_uri": "https://localhost:8080/"
        },
        "id": "Le2_QcjyYaQo",
        "outputId": "ff39a057-21f4-409c-fa9c-6d0238a7aafb"
      },
      "execution_count": 6,
      "outputs": [
        {
          "output_type": "stream",
          "name": "stdout",
          "text": [
            "['oh', 'no', 'what', 'is', 'happening', 'here', 'lol', '?']\n",
            "[('oh', 'UH'), ('no', 'DT'), ('what', 'WP'), ('is', 'VBZ'), ('happening', 'VBG'), ('here', 'RB'), ('lol', 'VBN'), ('?', '.')]\n"
          ]
        },
        {
          "output_type": "stream",
          "name": "stderr",
          "text": [
            "[nltk_data] Downloading package averaged_perceptron_tagger to\n",
            "[nltk_data]     /root/nltk_data...\n",
            "[nltk_data]   Package averaged_perceptron_tagger is already up-to-\n",
            "[nltk_data]       date!\n"
          ]
        }
      ]
    },
    {
      "cell_type": "code",
      "source": [
        "import nltk\n",
        "from nltk import word_tokenize\n",
        "from nltk.corpus import stopwords\n",
        "nltk.download('stopwords')\n",
        "\n",
        "#getting list of stopwords in english\n",
        "stop_words = stopwords.words('english')\n",
        "\n",
        "#printing the list of words\n",
        "print(stop_words)\n",
        "\n",
        "#now set up the sentence\n",
        "sentence = \"One piece is one of the best written TV series in History, You can watch it by pirating it from websites hehe.\"\n",
        "\n",
        "#tokenizing the sentence into words\n",
        "sentence_words = word_tokenize(sentence)\n",
        "\n",
        "#printing the list of tokens\n",
        "print(sentence_words)\n",
        "\n",
        "#now, removing the stopwords from the sentence\n",
        "sentence_no_stops = ' '.join([word for word in sentence_words if word.lower() not in stop_words])\n",
        "\n",
        "#printing the sentence after removing stopwords\n",
        "print(sentence_no_stops)"
      ],
      "metadata": {
        "colab": {
          "base_uri": "https://localhost:8080/"
        },
        "id": "cy02RVzAYG4R",
        "outputId": "e52e2bd4-73dd-441f-b188-2a9e4e8d9803"
      },
      "execution_count": 7,
      "outputs": [
        {
          "output_type": "stream",
          "name": "stdout",
          "text": [
            "['i', 'me', 'my', 'myself', 'we', 'our', 'ours', 'ourselves', 'you', \"you're\", \"you've\", \"you'll\", \"you'd\", 'your', 'yours', 'yourself', 'yourselves', 'he', 'him', 'his', 'himself', 'she', \"she's\", 'her', 'hers', 'herself', 'it', \"it's\", 'its', 'itself', 'they', 'them', 'their', 'theirs', 'themselves', 'what', 'which', 'who', 'whom', 'this', 'that', \"that'll\", 'these', 'those', 'am', 'is', 'are', 'was', 'were', 'be', 'been', 'being', 'have', 'has', 'had', 'having', 'do', 'does', 'did', 'doing', 'a', 'an', 'the', 'and', 'but', 'if', 'or', 'because', 'as', 'until', 'while', 'of', 'at', 'by', 'for', 'with', 'about', 'against', 'between', 'into', 'through', 'during', 'before', 'after', 'above', 'below', 'to', 'from', 'up', 'down', 'in', 'out', 'on', 'off', 'over', 'under', 'again', 'further', 'then', 'once', 'here', 'there', 'when', 'where', 'why', 'how', 'all', 'any', 'both', 'each', 'few', 'more', 'most', 'other', 'some', 'such', 'no', 'nor', 'not', 'only', 'own', 'same', 'so', 'than', 'too', 'very', 's', 't', 'can', 'will', 'just', 'don', \"don't\", 'should', \"should've\", 'now', 'd', 'll', 'm', 'o', 're', 've', 'y', 'ain', 'aren', \"aren't\", 'couldn', \"couldn't\", 'didn', \"didn't\", 'doesn', \"doesn't\", 'hadn', \"hadn't\", 'hasn', \"hasn't\", 'haven', \"haven't\", 'isn', \"isn't\", 'ma', 'mightn', \"mightn't\", 'mustn', \"mustn't\", 'needn', \"needn't\", 'shan', \"shan't\", 'shouldn', \"shouldn't\", 'wasn', \"wasn't\", 'weren', \"weren't\", 'won', \"won't\", 'wouldn', \"wouldn't\"]\n",
            "['One', 'piece', 'is', 'one', 'of', 'the', 'best', 'written', 'TV', 'series', 'in', 'History', ',', 'You', 'can', 'watch', 'it', 'by', 'pirating', 'it', 'from', 'websites', 'hehe', '.']\n",
            "One piece one best written TV series History , watch pirating websites hehe .\n"
          ]
        },
        {
          "output_type": "stream",
          "name": "stderr",
          "text": [
            "[nltk_data] Downloading package stopwords to /root/nltk_data...\n",
            "[nltk_data]   Unzipping corpora/stopwords.zip.\n"
          ]
        }
      ]
    },
    {
      "cell_type": "code",
      "source": [
        "sentence = \"Ken Kaneki is one of the best character\"\n",
        "\n",
        "normalized_sentence = sentence.replace(\"Ken\", \"Luffy\").replace(\"Kaneki\", \"D monkey\")\n",
        "\n",
        "#printing output\n",
        "print(normalized_sentence)\n"
      ],
      "metadata": {
        "colab": {
          "base_uri": "https://localhost:8080/"
        },
        "id": "Ua6ToO-gZ0ri",
        "outputId": "b7bd589f-cb44-48bb-99f0-5cd1d05e5c1b"
      },
      "execution_count": 10,
      "outputs": [
        {
          "output_type": "stream",
          "name": "stdout",
          "text": [
            "Luffy D monkey is one of the best character\n"
          ]
        }
      ]
    },
    {
      "cell_type": "code",
      "source": [
        "!pip install -q -U autocorrect"
      ],
      "metadata": {
        "id": "utCNmnvMaZWD",
        "colab": {
          "base_uri": "https://localhost:8080/"
        },
        "outputId": "2444bc87-f2e8-4f86-f20c-e08c43fcab8b"
      },
      "execution_count": 11,
      "outputs": [
        {
          "output_type": "stream",
          "name": "stdout",
          "text": [
            "\u001b[?25l     \u001b[90m━━━━━━━━━━━━━━━━━━━━━━━━━━━━━━━━━━━━━━━━\u001b[0m \u001b[32m0.0/622.8 kB\u001b[0m \u001b[31m?\u001b[0m eta \u001b[36m-:--:--\u001b[0m\r\u001b[2K     \u001b[91m━━━━━━━━━━━━━━━\u001b[0m\u001b[90m╺\u001b[0m\u001b[90m━━━━━━━━━━━━━━━━━━━━━━━━\u001b[0m \u001b[32m235.5/622.8 kB\u001b[0m \u001b[31m7.2 MB/s\u001b[0m eta \u001b[36m0:00:01\u001b[0m\r\u001b[2K     \u001b[90m━━━━━━━━━━━━━━━━━━━━━━━━━━━━━━━━━━━━━━━━\u001b[0m \u001b[32m622.8/622.8 kB\u001b[0m \u001b[31m9.0 MB/s\u001b[0m eta \u001b[36m0:00:00\u001b[0m\n",
            "\u001b[?25h  Preparing metadata (setup.py) ... \u001b[?25l\u001b[?25hdone\n",
            "  Building wheel for autocorrect (setup.py) ... \u001b[?25l\u001b[?25hdone\n"
          ]
        }
      ]
    },
    {
      "cell_type": "code",
      "source": [
        "import nltk\n",
        "from nltk import word_tokenize\n",
        "from autocorrect import Speller\n",
        "\n",
        "#correcting the spelling\n",
        "spell_checker = Speller()\n",
        "corrected_word = spell_checker('Natureal')\n",
        "print(corrected_word)\n",
        "\n",
        "#tokenizing the sentence\n",
        "sentence = word_tokenize(\"Luffy D Monkey is oen of the best charecter in hitery of anime.\")\n",
        "\n",
        "#printing the tokens\n",
        "print(sentence)\n",
        "\n",
        "#correcting the words\n",
        "sentence_corrected = ' '.join([spell_checker(word) for word in sentence])\n",
        "\n",
        "#printing the corrected sentence\n",
        "print(sentence_corrected)\n"
      ],
      "metadata": {
        "colab": {
          "base_uri": "https://localhost:8080/"
        },
        "id": "0WdwOkQ1ad56",
        "outputId": "bf2f7a49-f572-4c09-fa90-4428243320e0"
      },
      "execution_count": 15,
      "outputs": [
        {
          "output_type": "stream",
          "name": "stdout",
          "text": [
            "Natural\n",
            "['Luffy', 'D', 'Monkey', 'is', 'oen', 'of', 'the', 'best', 'charecter', 'in', 'hitery', 'of', 'anime', '.']\n",
            "Duffy D Monkey is on of the best character in history of anime .\n"
          ]
        }
      ]
    },
    {
      "cell_type": "code",
      "source": [
        "import nltk\n",
        "stemmer = nltk.stem.PorterStemmer()\n",
        "\n",
        "print(stemmer.stem(\"Dabbing\"))\n",
        "\n",
        "print(stemmer.stem(\"Employement\"))\n",
        "\n",
        "print(stemmer.stem(\"Biller\"))\n",
        "\n",
        "print(stemmer.stem(\"putting\"))"
      ],
      "metadata": {
        "colab": {
          "base_uri": "https://localhost:8080/"
        },
        "id": "cCEC67TEas4x",
        "outputId": "12a39c7e-3705-4926-f9ab-6a21c7f890bd"
      },
      "execution_count": 16,
      "outputs": [
        {
          "output_type": "stream",
          "name": "stdout",
          "text": [
            "dab\n",
            "employ\n",
            "biller\n",
            "put\n"
          ]
        }
      ]
    },
    {
      "cell_type": "code",
      "source": [
        "import nltk\n",
        "from nltk.stem.wordnet import WordNetLemmatizer\n",
        "\n",
        "nltk.download('wordnet')\n",
        "\n",
        "#creating an object with wordnetlemmatizer class\n",
        "lemmatizer = WordNetLemmatizer()\n",
        "\n",
        "print(lemmatizer.lemmatize('running'))\n",
        "\n",
        "print(lemmatizer.lemmatize('walking'))\n",
        "\n",
        "print(lemmatizer.lemmatize('best'))\n",
        "\n",
        "print(lemmatizer.lemmatize('ducking'))\n"
      ],
      "metadata": {
        "colab": {
          "base_uri": "https://localhost:8080/"
        },
        "id": "cctqhTWhbDzQ",
        "outputId": "f02d6e73-963f-4a9a-c921-4aa2b71698ef"
      },
      "execution_count": 18,
      "outputs": [
        {
          "output_type": "stream",
          "name": "stdout",
          "text": [
            "running\n",
            "walking\n",
            "best\n",
            "ducking\n"
          ]
        },
        {
          "output_type": "stream",
          "name": "stderr",
          "text": [
            "[nltk_data] Downloading package wordnet to /root/nltk_data...\n",
            "[nltk_data]   Package wordnet is already up-to-date!\n"
          ]
        }
      ]
    },
    {
      "cell_type": "code",
      "source": [
        "import nltk\n",
        "from nltk import word_tokenize\n",
        "from nltk import ne_chunk\n",
        "\n",
        "nltk.download('maxent_ne_chunker')\n",
        "nltk.download('words')\n",
        "\n",
        "sentence = \"We are reading a book published by Packt which is based out of Birmingham.\"\n",
        "\n",
        "tokenized_sentence = word_tokenize(sentence)\n",
        "pos_tags = nltk.pos_tag(tokenized_sentence)\n",
        "named_entities = ne_chunk(pos_tags, binary=True)\n",
        "\n",
        "named_entities_list = [a for a in named_entities if len(a)==1]\n",
        "\n",
        "print(named_entities_list)"
      ],
      "metadata": {
        "colab": {
          "base_uri": "https://localhost:8080/"
        },
        "id": "SDem-E8EbWiB",
        "outputId": "02c3128b-5f6a-4545-e0b1-1da3e71bd9c0"
      },
      "execution_count": null,
      "outputs": [
        {
          "output_type": "stream",
          "name": "stdout",
          "text": [
            "[Tree('NE', [('Packt', 'NNP')]), Tree('NE', [('Birmingham', 'NNP')])]\n"
          ]
        },
        {
          "output_type": "stream",
          "name": "stderr",
          "text": [
            "[nltk_data] Downloading package maxent_ne_chunker to\n",
            "[nltk_data]     /root/nltk_data...\n",
            "[nltk_data]   Package maxent_ne_chunker is already up-to-date!\n",
            "[nltk_data] Downloading package words to /root/nltk_data...\n",
            "[nltk_data]   Package words is already up-to-date!\n"
          ]
        }
      ]
    },
    {
      "cell_type": "code",
      "source": [
        "import nltk\n",
        "from nltk.wsd import lesk\n",
        "from nltk import word_tokenize\n",
        "\n",
        "sentence1 = \"Am a fan of eren yeager\"\n",
        "sentence2 = \"The fan is so stylish\"\n",
        "\n",
        "sense1 = lesk(word_tokenize(sentence1), 'fan')\n",
        "print(sense1)\n",
        "\n",
        "sense2 = lesk(word_tokenize(sentence2), 'fan')\n",
        "print(sense2)\n"
      ],
      "metadata": {
        "colab": {
          "base_uri": "https://localhost:8080/"
        },
        "id": "Ey5BJcCZbwQk",
        "outputId": "e5c0a22c-339a-467b-cdc5-10ffd2a8891f"
      },
      "execution_count": 21,
      "outputs": [
        {
          "output_type": "stream",
          "name": "stdout",
          "text": [
            "Synset('fan.n.01')\n",
            "Synset('winnow.v.01')\n"
          ]
        }
      ]
    },
    {
      "cell_type": "code",
      "source": [
        "import nltk\n",
        "from nltk.tokenize import sent_tokenize\n",
        "\n",
        "sentences = sent_tokenize(\"Eren yeager committed a genocide against the whole of humanity. This genocide wiped out 90% of the humanity. Was it worth it, Eren?\")\n",
        "\n",
        "print(sentences)"
      ],
      "metadata": {
        "colab": {
          "base_uri": "https://localhost:8080/"
        },
        "id": "RKcBf6nSb4U7",
        "outputId": "2d116d88-0852-4135-ed17-5c2f2e7f7268"
      },
      "execution_count": 22,
      "outputs": [
        {
          "output_type": "stream",
          "name": "stdout",
          "text": [
            "['Eren yeager committed a genocide against the whole of humanity.', 'This genocide wiped out 90% of the humanity.', 'Was it worth it, Eren?']\n"
          ]
        }
      ]
    },
    {
      "cell_type": "code",
      "source": [],
      "metadata": {
        "id": "QRyYUg9Fb8Y0"
      },
      "execution_count": null,
      "outputs": []
    }
  ]
}